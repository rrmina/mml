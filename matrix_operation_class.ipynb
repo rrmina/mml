{
 "cells": [
  {
   "cell_type": "code",
   "execution_count": null,
   "id": "3f8121f8",
   "metadata": {},
   "outputs": [],
   "source": [
    "import numpy as np\n",
    "\n",
    "class MatrixOperations:\n",
    "    def __init__(self, matrix):\n",
    "        if not isinstance(matrix, np.ndarray):\n",
    "            matrix = np.array(matrix)\n",
    "        self.matrix = matrix\n",
    "        self.m, self.n = matrix.shape\n",
    "\n",
    "    def rref(self, B: np.ndarray = None):\n",
    "\n",
    "        if B is None:\n",
    "            augmented_matrix = self.matrix.copy()\n",
    "        else:\n",
    "            if not isinstance(B, np.ndarray):\n",
    "                B = np.array(B)\n",
    "\n",
    "            if len(np.shape(B)) == 1:\n",
    "                B = B.reshape(-1, 1)\n",
    "\n",
    "            assert self.matrix.shape[0] == B.shape[0], \\\n",
    "                \"Incompatible dimensions - right matrix must have the same number of rows as the left matrix\"\n",
    "            \n",
    "            augmented_matrix = np.hstack((self.matrix.copy(), B.copy()))\n",
    "\n",
    "        augmented_matrix = augmented_matrix.astype(float)\n",
    "        m,n = self.m, self.n\n",
    "\n",
    "        # Loop through each column\n",
    "        l = 0 # negative row offset\n",
    "        for i in range(n):\n",
    "\n",
    "            # Skip columns that are all zero\n",
    "            if np.allclose(augmented_matrix[:, i], 0):\n",
    "                l += 1\n",
    "                continue\n",
    "\n",
    "            # Find a non-zero pivot and swap rows if necessary\n",
    "            j = i - l\n",
    "            while j < m: # Loop through each element in the row\n",
    "                if augmented_matrix[j, i] != 0:\n",
    "                    if j != i - l:\n",
    "                        augmented_matrix[[i - l, j]] = augmented_matrix[[j, i - l]]\n",
    "                    break\n",
    "\n",
    "                j += 1\n",
    "                \n",
    "            # Catches case where n > m and up to m pivots have been found\n",
    "            if j == m:\n",
    "                continue\n",
    "            \n",
    "            augmented_matrix[i-l] = augmented_matrix[i-l] / augmented_matrix[i-l, i]\n",
    "\n",
    "            # Eliminate the other rows\n",
    "            for k in range(m):\n",
    "                if k != i:\n",
    "                    augmented_matrix[k] -= augmented_matrix[i] * augmented_matrix[k, i]\n",
    "\n",
    "        # Return the inverted matrix\n",
    "        return augmented_matrix\n",
    "\n",
    "    def inverse(self):\n",
    "        # Check if the matrix is square\n",
    "        if self.matrix.shape[0] != self.matrix.shape[1]:\n",
    "            print('Matrix must be square to compute its inverse')\n",
    "            return None\n",
    "\n",
    "        # Create an identity matrix of the same size\n",
    "        n = self.matrix.shape[0]\n",
    "        identity_matrix = np.eye(n)\n",
    "\n",
    "        augmented_matrix = self.rref(B=identity_matrix)\n",
    "\n",
    "        # Check if the left side is now the identity matrix\n",
    "        if not np.allclose(augmented_matrix[:, :n], np.eye(n)):\n",
    "            print('Matrix cannot be inverted - not all rows are independent')\n",
    "            return None\n",
    "\n",
    "        return augmented_matrix[:, n:]\n",
    "    \n",
    "    def solve(self, b, granularity=2, debug=False):\n",
    "        augmented_matrix = self.rref(B=b)\n",
    "\n",
    "        # Check if all 0 rows in left matrix correspond to 0 in right matrix\n",
    "        for i in range(self.m):\n",
    "            if np.allclose(augmented_matrix[i, :-1], 0) and not np.isclose(augmented_matrix[i, -1], 0):\n",
    "                print('No solutions exist')\n",
    "                return None\n",
    "            \n",
    "        # Loop through each column and check if a column is all zero\n",
    "        dont_care = []\n",
    "        for j in range(self.n):\n",
    "            if np.allclose(augmented_matrix[:, j], 0):\n",
    "                dont_care.append(j+1)\n",
    "\n",
    "        # Check each if there all zero column - set this as free variable\n",
    "        # Loop through each row \n",
    "            # Find the leading 1 in the row\n",
    "            # Suceeding columns are subtracted from the right hand side\n",
    "            # If no leading 1, then free variable\n",
    "        \n",
    "        pre_final_solution = augmented_matrix[:, -1].copy()\n",
    "        free_variables = []\n",
    "        \n",
    "        for i in range(self.m):\n",
    "            j = 0 # could be improved with negative offset but my brain is fried\n",
    "\n",
    "            # Find the leading 1 in the row\n",
    "            while j < self.n:\n",
    "                if np.allclose(augmented_matrix[i, j], 1):\n",
    "                    j2 = j + 1\n",
    "                    solution_str = f'x{j+1} = {pre_final_solution[i]}'\n",
    "                    while j2 < self.n:\n",
    "                        if not np.isclose(augmented_matrix[i, j2], 0):\n",
    "                            free_variables.append(j2+1)\n",
    "                            if augmented_matrix[i, j2] > 0:\n",
    "                                solution_str += f' - ({augmented_matrix[i, j2]:.{granularity}f})x{j2+1}'\n",
    "                            else:\n",
    "                                solution_str += f' + ({-augmented_matrix[i, j2]:.{granularity}f})x{j2+1}'\n",
    "                        j2 += 1\n",
    "                        \n",
    "                    j += 1\n",
    "                    break\n",
    "\n",
    "                j += 1\n",
    "\n",
    "            if i+1 in free_variables:\n",
    "                print(f'x{i+1} is a free variable')\n",
    "            elif i+1 in dont_care:\n",
    "                print(f'x{i+1} is a \"dont care\" variable')\n",
    "            else:\n",
    "                print(f'{solution_str}')\n",
    "\n",
    "        if debug:\n",
    "            return augmented_matrix\n",
    "\n",
    "        if len(free_variables) > 0 or len(dont_care) > 0:\n",
    "            return 'Check the printed solution for details'\n",
    "        else:\n",
    "            return augmented_matrix[:, -1]\n",
    "\n",
    "    def svd(self):\n",
    "        pass\n",
    "\n",
    "    def pinv(self):\n",
    "        passmatri\n"
   ]
  },
  {
   "cell_type": "code",
   "execution_count": 378,
   "id": "d3f8700e",
   "metadata": {},
   "outputs": [
    {
     "name": "stdout",
     "output_type": "stream",
     "text": [
      "No solutions exist\n",
      "Solution for Ax = b:\n",
      " None\n"
     ]
    }
   ],
   "source": [
    "A = [\n",
    "    [1,0,0],\n",
    "    [0,0,1],\n",
    "    [0,0,0]\n",
    "]\n",
    "\n",
    "b = [1,2,3]\n",
    "\n",
    "matrix_ops = MatrixOperations(A)\n",
    "solution = matrix_ops.solve(b)\n",
    "print(\"Solution for Ax = b:\\n\", solution)"
   ]
  },
  {
   "cell_type": "code",
   "execution_count": 380,
   "id": "5e557fed",
   "metadata": {},
   "outputs": [
    {
     "name": "stdout",
     "output_type": "stream",
     "text": [
      "Original Matrix:\n",
      " [[1 0 1]\n",
      " [0 7 6]\n",
      " [3 0 2]]\n",
      "Inverse Matrix:\n",
      " [[-2.          0.          1.        ]\n",
      " [-2.57142857  0.14285714  0.85714286]\n",
      " [ 3.         -0.         -1.        ]]\n"
     ]
    }
   ],
   "source": [
    "matrix_ops = MatrixOperations(a)\n",
    "inverse_a = matrix_ops.inverse()\n",
    "print(\"Original Matrix:\\n\", a)\n",
    "print(\"Inverse Matrix:\\n\", inverse_a)"
   ]
  },
  {
   "cell_type": "code",
   "execution_count": 131,
   "id": "47c0a146",
   "metadata": {},
   "outputs": [
    {
     "data": {
      "text/plain": [
       "array([[1., 0., 0.],\n",
       "       [0., 1., 0.],\n",
       "       [0., 0., 1.]])"
      ]
     },
     "execution_count": 131,
     "metadata": {},
     "output_type": "execute_result"
    }
   ],
   "source": [
    "a @ inverse_a  # Should be close to identity matrix"
   ]
  },
  {
   "cell_type": "code",
   "execution_count": 381,
   "id": "81a7c5eb",
   "metadata": {},
   "outputs": [
    {
     "name": "stdout",
     "output_type": "stream",
     "text": [
      "Solution x: [0.5 0.5 1. ]\n",
      "Residuals: []\n",
      "Rank of A: 2\n",
      "Singular values: [1.16873598e+01 1.18558911e+00 2.90794310e-16]\n"
     ]
    }
   ],
   "source": [
    "import numpy as np\n",
    "\n",
    "A = np.array([\n",
    "    [1, 1, 5],\n",
    "    [2, 2, 6],\n",
    "    [3, 3, 7]\n",
    "], dtype=float)\n",
    "\n",
    "b = np.array([6, 8, 10], dtype=float)\n",
    "\n",
    "# Since A may not be full rank, use lstsq instead of inv\n",
    "x, residuals, rank, s = np.linalg.lstsq(A, b, rcond=None)\n",
    "\n",
    "print(\"Solution x:\", x)\n",
    "print(\"Residuals:\", residuals)\n",
    "print(\"Rank of A:\", rank)\n",
    "print(\"Singular values:\", s)"
   ]
  },
  {
   "cell_type": "code",
   "execution_count": null,
   "id": "d116a82a",
   "metadata": {},
   "outputs": [],
   "source": []
  }
 ],
 "metadata": {
  "kernelspec": {
   "display_name": "base",
   "language": "python",
   "name": "python3"
  },
  "language_info": {
   "codemirror_mode": {
    "name": "ipython",
    "version": 3
   },
   "file_extension": ".py",
   "mimetype": "text/x-python",
   "name": "python",
   "nbconvert_exporter": "python",
   "pygments_lexer": "ipython3",
   "version": "3.12.4"
  }
 },
 "nbformat": 4,
 "nbformat_minor": 5
}
